{
 "cells": [
  {
   "cell_type": "markdown",
   "id": "315577bf-30c6-455c-9613-3d784f16bde6",
   "metadata": {},
   "source": [
    "# My Jupyter Notebook on IBM Watson Studio"
   ]
  },
  {
   "cell_type": "markdown",
   "id": "64f05980-ab4b-42d1-92ac-067f5911d7fa",
   "metadata": {},
   "source": [
    "**Dorcas Munoko**\n",
    "\n",
    "Data Scientist"
   ]
  },
  {
   "cell_type": "markdown",
   "id": "f24a34d2-c8eb-4722-9866-cf376c949c7e",
   "metadata": {},
   "source": [
    "*I am interested in Data Science because I like using data to help make informed decisions.*"
   ]
  },
  {
   "cell_type": "markdown",
   "id": "1eee3a3d-3513-4ce8-94da-cabc81734218",
   "metadata": {},
   "source": [
    "### My code is supposed to run a simple math calculation"
   ]
  },
  {
   "cell_type": "code",
   "execution_count": 3,
   "id": "fa89668b-f7bf-460b-a1f1-d2d20fc69dba",
   "metadata": {},
   "outputs": [
    {
     "name": "stdout",
     "output_type": "stream",
     "text": [
      "2\n"
     ]
    }
   ],
   "source": [
    "a = (1+1)\n",
    "print(a)"
   ]
  },
  {
   "cell_type": "markdown",
   "id": "0f465ba1-b4a7-4aa2-9320-5382a4dd4a5b",
   "metadata": {},
   "source": [
    "1. Cell 1 (rendered as Markdown): The title should be \"My Jupyter Notebook on IBM Watson Studio\", in H1 header styling. The title does not need to be centered.\n",
    "\n",
    "2. Cell 2 (rendered as Markdown): Include your name, in bold characters. In the line below your name, write your current or desired occupation in regular font.\n",
    "\n",
    "3. Cell 3 (rendered as Markdown): In italic formatting, write one or two sentences about why you are interested in data science. For example, you can start your first sentence with \"I am interested in data science because ...\".\n",
    "\n",
    "4. Cell 4 (rendered as Markdown): In H3 header styling, explain in a short sentence what your code is supposed to do in Cell 5.\n",
    "\n",
    "5. Cell 5 (code cell): Your code, as described in Cell 4. It must be executed and must display an output. Try to keep the code simple (it can even be \"1 + 1\").\n",
    "\n",
    "6. Cell 6 (rendered as Markdown): Using Markdown or HTML, this cell must include at least 3 of the following: horizontal rule, bulleted list, numbered list, tables, hyperlinks, images, code/syntax highlighting, blocked quotes, strikethrough.\n",
    "\n",
    "\n",
    "***\n",
    "\n",
    "\n",
    "* Cell 1 (rendered as Markdown): The title should be \"My Jupyter Notebook on IBM Watson Studio\", in H1 header styling. The title does not need to be centered.\n",
    "\n",
    "* Cell 2 (rendered as Markdown): Include your name, in bold characters. In the line below your name, write your current or desired occupation in regular font.\n",
    "\n",
    "* Cell 3 (rendered as Markdown): In italic formatting, write one or two sentences about why you are interested in data science. For example, you can start your first sentence with \"I am interested in data science because ...\".\n",
    "\n",
    "* Cell 4 (rendered as Markdown): In H3 header styling, explain in a short sentence what your code is supposed to do in Cell 5.\n",
    "\n",
    "* Cell 5 (code cell): Your code, as described in Cell 4. It must be executed and must display an output. Try to keep the code simple (it can even be \"1 + 1\").\n",
    "\n",
    "* Cell 6 (rendered as Markdown): Using Markdown or HTML, this cell must include at least 3 of the following: horizontal rule, bulleted list, numbered list, tables, hyperlinks, images, code/syntax highlighting, blocked quotes, strikethrough.\n",
    "\n",
    "***\n",
    "\n",
    "~~Cell 1 (rendered as Markdown): The title should be \"My Jupyter Notebook on IBM Watson Studio\", in H1 header styling. The title does not need to be centered.~~\n",
    "\n",
    "~~Cell 2 (rendered as Markdown): Include your name, in bold characters. In the line below your name, write your current or desired occupation in regular font.~~\n",
    "\n",
    "~~Cell 3 (rendered as Markdown): In italic formatting, write one or two sentences about why you are interested in data science. For example, you can start your first sentence with \"I am interested in data science because ...\".~~\n",
    "\n",
    "~~Cell 4 (rendered as Markdown): In H3 header styling, explain in a short sentence what your code is supposed to do in Cell 5.~~\n",
    "\n",
    "~~Cell 5 (code cell): Your code, as described in Cell 4. It must be executed and must display an output. Try to keep the code simple (it can even be \"1 + 1\").~~\n",
    "\n",
    "~~Cell 6 (rendered as Markdown): Using Markdown or HTML, this cell must include at least 3 of the following: horizontal rule, bulleted list, numbered list, tables, hyperlinks, images, code/syntax highlighting, blocked quotes, strikethrough.~~"
   ]
  },
  {
   "cell_type": "code",
   "execution_count": null,
   "id": "4a0f7bab-c57f-46a6-8cdd-437a91ced013",
   "metadata": {},
   "outputs": [],
   "source": []
  }
 ],
 "metadata": {
  "kernelspec": {
   "display_name": "Python 3 (ipykernel)",
   "language": "python",
   "name": "python3"
  },
  "language_info": {
   "codemirror_mode": {
    "name": "ipython",
    "version": 3
   },
   "file_extension": ".py",
   "mimetype": "text/x-python",
   "name": "python",
   "nbconvert_exporter": "python",
   "pygments_lexer": "ipython3",
   "version": "3.9.7"
  }
 },
 "nbformat": 4,
 "nbformat_minor": 5
}
